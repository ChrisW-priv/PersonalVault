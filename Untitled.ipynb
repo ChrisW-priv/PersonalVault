{
 "cells": [
  {
   "cell_type": "code",
   "execution_count": 1,
   "id": "6264cc0f-aaa1-488c-bbb7-1ae3bf99dc8b",
   "metadata": {},
   "outputs": [],
   "source": [
    "import pandas"
   ]
  },
  {
   "cell_type": "code",
   "execution_count": 2,
   "id": "6cc09fff-18bb-4d0e-b229-0cf4dcd37da3",
   "metadata": {},
   "outputs": [
    {
     "ename": "ModuleNotFoundError",
     "evalue": "No module named 'matplotlib'",
     "output_type": "error",
     "traceback": [
      "\u001b[0;31m---------------------------------------------------------------------------\u001b[0m",
      "\u001b[0;31mModuleNotFoundError\u001b[0m                       Traceback (most recent call last)",
      "Cell \u001b[0;32mIn[2], line 3\u001b[0m\n\u001b[1;32m      1\u001b[0m \u001b[38;5;28;01mimport\u001b[39;00m\u001b[38;5;250m \u001b[39m\u001b[38;5;21;01mnumpy\u001b[39;00m\u001b[38;5;250m \u001b[39m\u001b[38;5;28;01mas\u001b[39;00m\u001b[38;5;250m \u001b[39m\u001b[38;5;21;01mnp\u001b[39;00m\n\u001b[1;32m      2\u001b[0m \u001b[38;5;28;01mimport\u001b[39;00m\u001b[38;5;250m \u001b[39m\u001b[38;5;21;01mpandas\u001b[39;00m\u001b[38;5;250m \u001b[39m\u001b[38;5;28;01mas\u001b[39;00m\u001b[38;5;250m \u001b[39m\u001b[38;5;21;01mpd\u001b[39;00m\n\u001b[0;32m----> 3\u001b[0m \u001b[38;5;28;01mimport\u001b[39;00m\u001b[38;5;250m \u001b[39m\u001b[38;5;21;01mmatplotlib\u001b[39;00m\u001b[38;5;21;01m.\u001b[39;00m\u001b[38;5;21;01mpyplot\u001b[39;00m\u001b[38;5;250m \u001b[39m\u001b[38;5;28;01mas\u001b[39;00m\u001b[38;5;250m \u001b[39m\u001b[38;5;21;01mplt\u001b[39;00m\n\u001b[1;32m      5\u001b[0m \u001b[38;5;66;03m# Time Horizon (24 hours for a day-ahead market)\u001b[39;00m\n\u001b[1;32m      6\u001b[0m hours \u001b[38;5;241m=\u001b[39m np\u001b[38;5;241m.\u001b[39marange(\u001b[38;5;241m1\u001b[39m, \u001b[38;5;241m25\u001b[39m)\n",
      "\u001b[0;31mModuleNotFoundError\u001b[0m: No module named 'matplotlib'"
     ]
    }
   ],
   "source": [
    "import numpy as np\n",
    "import pandas as pd\n",
    "import matplotlib.pyplot as plt\n",
    "\n",
    "# Time Horizon (24 hours for a day-ahead market)\n",
    "hours = np.arange(1, 25)\n",
    "\n",
    "# Simulated Price Forecast (Internal)\n",
    "internal_forecast = np.array([50, 48, 47, 45, 46, 50, 55, 60, 65, 70, 75, 78, 80, 79, 77, 75, 73, 70, 65, 60, 58, 55, 53, 50])\n",
    "\n",
    "# Market Expectation of Prices\n",
    "market_expectation = internal_forecast + np.random.randint(-5, 5, size=24) + 5  # Market expects generally higher prices\n",
    "\n",
    "# Actual Realization Cases\n",
    "actual_realization_1 = (internal_forecast + market_expectation) / 2  # Middle case\n",
    "actual_realization_2 = internal_forecast - np.random.randint(2, 6, size=24)  # Below forecast\n",
    "actual_realization_3 = market_expectation + np.random.randint(2, 6, size=24)  # Above market expectation\n",
    "\n",
    "# Create DataFrame\n",
    "df = pd.DataFrame({\n",
    "    'Hour': hours,\n",
    "    'Internal Forecast': internal_forecast,\n",
    "    'Market Expectation': market_expectation,\n",
    "    'Actual (Middle Case)': actual_realization_1,\n",
    "    'Actual (Below Forecast)': actual_realization_2,\n",
    "    'Actual (Above Market)': actual_realization_3\n",
    "})\n",
    "\n",
    "# Plotting the Forecast vs Actual Realization\n",
    "plt.figure(figsize=(12, 6))\n",
    "plt.plot(df['Hour'], df['Internal Forecast'], label='Internal Forecast', linestyle='dashed', marker='o')\n",
    "plt.plot(df['Hour'], df['Market Expectation'], label='Market Expectation', linestyle='dotted', marker='s')\n",
    "plt.plot(df['Hour'], df['Actual (Middle Case)'], label='Actual (Middle Case)', linestyle='solid', marker='^')\n",
    "plt.plot(df['Hour'], df['Actual (Below Forecast)'], label='Actual (Below Forecast)', linestyle='solid', marker='v', alpha=0.7)\n",
    "plt.plot(df['Hour'], df['Actual (Above Market)'], label='Actual (Above Market)', linestyle='solid', marker='x', alpha=0.7)\n",
    "\n",
    "plt.xlabel(\"Hour of the Day\")\n",
    "plt.ylabel(\"Price ($/MWh)\")\n",
    "plt.title(\"Day-Ahead Market: Forecast vs. Realized Prices\")\n",
    "plt.legend()\n",
    "plt.grid()\n",
    "plt.show()"
   ]
  }
 ],
 "metadata": {
  "kernelspec": {
   "display_name": "Python 3 (ipykernel)",
   "language": "python",
   "name": "python3"
  },
  "language_info": {
   "codemirror_mode": {
    "name": "ipython",
    "version": 3
   },
   "file_extension": ".py",
   "mimetype": "text/x-python",
   "name": "python",
   "nbconvert_exporter": "python",
   "pygments_lexer": "ipython3",
   "version": "3.12.4"
  }
 },
 "nbformat": 4,
 "nbformat_minor": 5
}
